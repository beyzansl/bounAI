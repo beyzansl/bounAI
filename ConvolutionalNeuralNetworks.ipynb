{
 "cells": [
  {
   "cell_type": "markdown",
   "metadata": {
    "id": "Nf6PU3TT7m7c"
   },
   "source": [
    "# Convolutional Neural Networks\n",
    "From previous lecture, we successfully classified image data using only flattening. However, when we consider more complex and \"unstandardized\" images, flattening approach will not succeed, because the object that determines the class of the image can be positioned various locations and various lighting conditions. In order to overcome this issue, we shall inspect the relationship between the pixels insted of sequential values. \n",
    "<br><br>\n",
    "We will use the dataset below in this example. <br>\n",
    "https://www.kaggle.com/chetankv/dogs-cats-images"
   ]
  },
  {
   "cell_type": "markdown",
   "metadata": {
    "id": "abqzml0o7m7d"
   },
   "source": [
    "## Convolution Layers\n",
    "Kernels are filters that extracts the relationship between adjacent pixels. For a detailed demonstration and explanation you can visit: <br> https://setosa.io/ev/image-kernels/ <br>\n",
    "Convolution layers are the processors that cover given inputs with kernels, and create output layers."
   ]
  },
  {
   "cell_type": "code",
   "execution_count": null,
   "metadata": {
    "id": "xj_Bnlx47m7d",
    "outputId": "08055d84-ff41-403c-a70a-6dacdeb2a969"
   },
   "outputs": [],
   "source": [
    "import warnings\n",
    "warnings.filterwarnings('ignore')\n",
    "\n",
    "import os\n",
    "\n",
    "import torch\n",
    "from torch import nn\n",
    "import torch.nn.functional as F\n",
    "import torch.optim as optim\n",
    "from torch.utils.data import Dataset, DataLoader\n",
    "\n",
    "import torchvision\n",
    "from torchvision import transforms, utils\n",
    "\n",
    "import cv2\n",
    "\n",
    "import numpy as np\n",
    "\n",
    "from matplotlib import pyplot as plt\n",
    "\n",
    "device = \"cuda\" if torch.cuda.is_available() else \"cpu\"\n",
    "print(\"Using {} device\".format(device))"
   ]
  },
  {
   "cell_type": "markdown",
   "metadata": {
    "id": "hfYUoRiA7m7e"
   },
   "source": [
    "**Loading the image**"
   ]
  },
  {
   "cell_type": "code",
   "execution_count": null,
   "metadata": {
    "id": "iM8KLXLt7m7f",
    "outputId": "f92e9850-b0eb-4a8c-9824-fcf40f03a9c5",
    "scrolled": true
   },
   "outputs": [],
   "source": [
    "# Load image to the memory\n",
    "image = cv2.imread(r'C:/Users/beyza/Downloads/archive (1)/dataset/training_set/cats/cat.50.jpg')\n",
    "\n",
    "# As cv2 library loads image in BGR color schema, we need to convert it to RGB in order to visualize in matplotlib.\n",
    "# If you use cv2.imshow() method you do not do that step. However, that method results Jupyter to crash.\n",
    "image = cv2.cvtColor(image, cv2.COLOR_BGR2RGB)\n",
    "\n",
    "# Show image\n",
    "plt.imshow(image)\n",
    "plt.show()\n",
    "\n",
    "print(image.shape)"
   ]
  },
  {
   "cell_type": "markdown",
   "metadata": {
    "id": "4z_SMbFV7m7f"
   },
   "source": [
    "**Applying Convolution**"
   ]
  },
  {
   "cell_type": "code",
   "execution_count": null,
   "metadata": {
    "id": "P4NxvDey7m7f",
    "outputId": "efac84b1-2044-4e35-a715-ace303b6ce27"
   },
   "outputs": [],
   "source": [
    "# Get how many channels image contains, in this case 3 -> R(ed) G(reen) B(lue)\n",
    "nb_channels = image.shape[2]\n",
    "output_channels = 1\n",
    "\n",
    "# Convert image from NumPy/CV2 to Torch Tensor.\n",
    "# As a side note, in Torch Tensors data is structured as\n",
    "# (BatchSize, ChannelSize, YSize, XSize)\n",
    "# Whereas, in CV2/NumPy data is is structured as\n",
    "# (BatchSize, YSize, XSize)\n",
    "# So we need to change the dimension of the data either using .transpose() method\n",
    "# in NumPy or .permute() method in Torch.\n",
    "\n",
    "image_tensor = torch.from_numpy(image.astype(np.float32)).permute(2,0,1)\n",
    "\n",
    "# For the purpose of demonstration we define our own kernel weights\n",
    "# However, they are assigned randomly for training purposes. So you will\n",
    "# not have to repeat this step when training a neural network.\n",
    "\n",
    "weights = torch.tensor([[-1., 0., 1.],\n",
    "                        [-1., 0., 1.],\n",
    "                        [-1., 0., 1.]])\n",
    "weights = weights.view(1,1, 3, 3).repeat(output_channels,nb_channels, 1, 1)\n",
    "\n",
    "# We 'forward' the input to get the output of the convolution process.\n",
    "\n",
    "output = F.conv2d(image_tensor.unsqueeze_(0), weights)\n",
    "output_image = output[0].permute(1, 2, 0).numpy()\n",
    "\n",
    "plt.imshow(output_image, cmap='binary')\n",
    "plt.show()\n",
    "\n",
    "print(output_image.shape)"
   ]
  },
  {
   "cell_type": "markdown",
   "metadata": {
    "id": "uOHH4Q0v7m7f"
   },
   "source": [
    "You can observe that size of the image decreases by 2 pixel from both dimensions. It is because convolution takes the middle point of the kernel as the output pixel. As the kernel has dimensions of 3x3 the edge pixels can not be included in the output.\n",
    "<br>\n",
    "Output dimensions can be adjusted using **stride and padding**. For further reading you can utilize the source below: <br>\n",
    "https://towardsdatascience.com/covolutional-neural-network-cb0883dd6529"
   ]
  },
  {
   "cell_type": "markdown",
   "metadata": {
    "id": "qGEaurjp7m7g"
   },
   "source": [
    "### Exercise 1\n",
    "Apply \"outline\" kernel filter to the image above"
   ]
  },
  {
   "cell_type": "code",
   "execution_count": null,
   "metadata": {
    "id": "3ErnZfY_7m7g"
   },
   "outputs": [],
   "source": [
    "nb_channels = image.shape[2]\n",
    "output_channels = 1\n",
    "\n",
    "# Convert image from NumPy/CV2 to Torch Tensor.\n",
    "# As a side note, in Torch Tensors data is structured as\n",
    "# (BatchSize, ChannelSize, YSize, XSize)\n",
    "# Whereas, in CV2/NumPy data is is structured as\n",
    "# (BatchSize, YSize, XSize)\n",
    "# So we need to change the dimension of the data either using .transpose() method\n",
    "# in NumPy or .permute() method in Torch.\n",
    "\n",
    "image_tensor = torch.from_numpy(image.astype(np.float32)).permute(2,0,1)\n",
    "\n",
    "# For the purpose of demonstration we define our own kernel weights\n",
    "# However, they are assigned randomly for training purposes. So you will\n",
    "# not have to repeat this step when training a neural network.\n",
    "\n",
    "weights2 = torch.tensor([[-1., -1., -1.],\n",
    "                        [-1., 8., -1.],\n",
    "                        [-1., -1., -1.]])\n",
    "weights2 = weights2.view(1,1, 3, 3).repeat(output_channels,nb_channels, 1, 1)\n",
    "\n",
    "# We 'forward' the input to get the output of the convolution process.\n",
    "\n",
    "output = F.conv2d(image_tensor.unsqueeze_(0), weights2)\n",
    "output_image = output[0].permute(1, 2, 0).numpy()\n",
    "\n",
    "plt.imshow(output_image, cmap='binary')\n",
    "plt.show()\n",
    "\n",
    "print(output_image.shape)"
   ]
  },
  {
   "cell_type": "markdown",
   "metadata": {
    "id": "01Y2mYG17m7g"
   },
   "source": [
    "## Data Loaders\n",
    "Image files are big. In jpeg format they are compressed. Even their compressed sizes are a lot larger than a numeric dataset. When they are imported and transferred to the memory, their sizes increase more, making it impossible to process even medium sized datasets at a personal computer. For that case, we use data loaders, which carry just enough samples from a dataset and use them for an iteration.\n",
    "### Exercise 2\n",
    "Fill 2 blanks given in the \\_\\_getitem\\_\\_ method."
   ]
  },
  {
   "cell_type": "code",
   "execution_count": null,
   "metadata": {
    "id": "WQOMaCH97m7g"
   },
   "outputs": [],
   "source": [
    "class CatDogDataset(Dataset):\n",
    "    def __init__(self, input_size = (128,128), training=True):\n",
    "        # Define the image size that will be inputted to the model.\n",
    "        self.input_size = input_size\n",
    "        \n",
    "        # Create a transformer that converts image array to tensor.\n",
    "        self.transform = transforms.Compose([transforms.ToTensor()])\n",
    "        \n",
    "        # Define if the dataset object is created for training or test.\n",
    "        # Define data path.\n",
    "        if training:\n",
    "            path = r'C:/Users/beyza/Downloads/archive (1)/dataset/training_set'\n",
    "        else:\n",
    "            path = r'C:/Users/beyza/Downloads/archive (1)/dataset/test_set'\n",
    "            \n",
    "        # Extract categories if the folder.\n",
    "        # Create a data variable which is in the format of [[FilePath, FileClass/Index] ... [...]]\n",
    "        self.classes = os.listdir(path)\n",
    "        files = []\n",
    "        labels = np.zeros((0,1))\n",
    "        for cls in self.classes:\n",
    "            new_files = [path + '\\\\' + cls + '\\\\' + x for x in os.listdir(path + '\\\\' + cls)]\n",
    "            files.extend(new_files)\n",
    "            new_labels = np.full((len(new_files),1),self.classes.index(cls))\n",
    "            labels = np.vstack((labels,new_labels))\n",
    "        self.data = np.hstack((np.array(files).reshape(-1,1),labels))\n",
    "        \n",
    "        # Shuffle the data.\n",
    "        np.random.shuffle(self.data)\n",
    "\n",
    "    # len method returns the lenghts of the dataset. It is the value when len(obj) is called.\n",
    "    def __len__(self):\n",
    "        return self.data.shape[0]\n",
    "    \n",
    "    # getitem method extracts data for each datapoint. It is the vale when the object is\n",
    "    # inserted in a for loop.\n",
    "    def __getitem__(self, idx):\n",
    "        # Read image from file. Adding 0 as the second parameter makes image imported\n",
    "        # in grayscale format. (Black and white)\n",
    "        image = cv2.imread(self.data[idx,0],0)\n",
    "        \n",
    "        # Resize the image for the model.\n",
    "        image = cv2.resize(image,(128,128))\n",
    "        \n",
    "        # Read the label for the image.\n",
    "        label = self.data[idx,1]\n",
    "        \n",
    "        # Convert label data to long as loss function expects long.\n",
    "        label = np.array(label.astype(np.float32), dtype=np.long)\n",
    "        return self.transform(image).to(device), torch.from_numpy(label).to(device).long()\n",
    "\n",
    "# Define datasets and generators.\n",
    "training_data = CatDogDataset()\n",
    "test_data = CatDogDataset(training=False)\n",
    "\n",
    "training_generator = DataLoader(training_data, batch_size=16)\n",
    "test_generator = DataLoader(test_data, batch_size=16)"
   ]
  },
  {
   "cell_type": "markdown",
   "metadata": {
    "id": "jHudBbub7m7h"
   },
   "source": [
    "## Defining Model"
   ]
  },
  {
   "cell_type": "code",
   "execution_count": null,
   "metadata": {
    "id": "x--EknuS7m7h"
   },
   "outputs": [],
   "source": [
    "class Net(nn.Module):\n",
    "    def __init__(self):\n",
    "        super().__init__()\n",
    "        self.conv1 = nn.Conv2d(1, 5, (5,5)) # Input Channels, Output Channels, Kernel Size\n",
    "        self.pool = nn.MaxPool2d((2, 2)) # Kernel Size\n",
    "        self.conv2 = nn.Conv2d(5, 20, (5,5))\n",
    "        self.fc1 = nn.Linear(20 * 29 * 29, 32) #128->124->62->58->29\n",
    "        self.fc2 = nn.Linear(32, 2)\n",
    "        self.dropout = nn.Dropout(0.2)\n",
    "\n",
    "    def forward(self, x):\n",
    "        x = self.pool(F.relu(self.conv1(x)))\n",
    "        x = self.pool(F.relu(self.conv2(x)))\n",
    "        x = torch.flatten(x, 1) # flatten all dimensions except batch\n",
    "        x = self.dropout(x)\n",
    "        x = F.relu(self.fc1(x))\n",
    "        x = self.dropout(x)\n",
    "        x = self.fc2(x)\n",
    "        return x"
   ]
  },
  {
   "cell_type": "markdown",
   "metadata": {
    "id": "akyVaERk7m7h"
   },
   "source": [
    "### Exercise 3\n",
    "Explain why we used dropout layers and how they work."
   ]
  },
  {
   "cell_type": "markdown",
   "metadata": {},
   "source": [
    "To prevent over-fitting we used dropout layers. With probability p, each node is kept in the training stage, meaning that \n",
    "with probability 1-p, they are dropped out."
   ]
  },
  {
   "cell_type": "markdown",
   "metadata": {
    "id": "0wIqbtch7m7i"
   },
   "source": [
    "## Training\n",
    "### Exercise 4\n",
    "Decide on the epoch number of the training. Explain why you chose that number."
   ]
  },
  {
   "cell_type": "code",
   "execution_count": null,
   "metadata": {
    "id": "eAzCBVKr7m7i",
    "outputId": "b0f1714c-e280-4303-d7c2-fbeacda309d4"
   },
   "outputs": [],
   "source": [
    "net = Net().to(device)\n",
    "\n",
    "criterion = nn.CrossEntropyLoss()\n",
    "optimizer = optim.Adam(net.parameters())\n",
    "epochs = 10\n",
    "losses=[]\n",
    "validation_losses=[]\n",
    "for epoch in range(epochs):\n",
    "    net.train()\n",
    "    loss_sum = 0\n",
    "    for i, (img, label) in enumerate(training_generator):\n",
    "        img = img\n",
    "        label = label\n",
    "        optimizer.zero_grad()\n",
    "        outputs = net(img)\n",
    "        loss = criterion(outputs, label)\n",
    "        loss.backward()\n",
    "        optimizer.step()\n",
    "        loss_sum += loss.item()\n",
    "        print(f\"Epoch {epoch+1}/{epochs}\\tLoss:{loss_sum/(i+1):.4f}\\t({100*(i+1)/len(training_generator):.0f}%)\", end='\\r')\n",
    "    losses.append(loss_sum/len(training_generator))\n",
    "    net.eval()\n",
    "    valid_loss = 0\n",
    "    with torch.no_grad():\n",
    "        for i, (img, label) in enumerate(test_generator):\n",
    "            img = img\n",
    "            label = label\n",
    "            outputs = net(img)\n",
    "            loss = criterion(outputs, label)\n",
    "            valid_loss += loss.item()\n",
    "          \n",
    "        validation_losses.append(valid_loss/len(test_generator)) \n",
    "    print(f\"Epoch {epoch+1}/{epochs}\\tLoss:{loss_sum/len(training_generator):.4f}\\tValidation Loss:{valid_loss/len(test_generator):.4f}\")"
   ]
  },
  {
   "cell_type": "code",
   "execution_count": null,
   "metadata": {},
   "outputs": [],
   "source": [
    "plt.plot(losses)\n",
    "plt.plot(validation_losses)"
   ]
  },
  {
   "cell_type": "markdown",
   "metadata": {},
   "source": [
    "It seems that validation loss starts to increase after the epoch number 4, which means the model is getting overfit. Therefore the optimal epoch number is 4."
   ]
  },
  {
   "cell_type": "code",
   "execution_count": null,
   "metadata": {},
   "outputs": [],
   "source": [
    "net = Net().to(device)\n",
    "\n",
    "criterion = nn.CrossEntropyLoss()\n",
    "optimizer = optim.Adam(net.parameters())\n",
    "epochs = 4\n",
    "losses=[]\n",
    "validation_losses=[]\n",
    "for epoch in range(epochs):\n",
    "    net.train()\n",
    "    loss_sum = 0\n",
    "    for i, (img, label) in enumerate(training_generator):\n",
    "        img = img\n",
    "        label = label\n",
    "        optimizer.zero_grad()\n",
    "        outputs = net(img)\n",
    "        loss = criterion(outputs, label)\n",
    "        loss.backward()\n",
    "        optimizer.step()\n",
    "        loss_sum += loss.item()\n",
    "        print(f\"Epoch {epoch+1}/{epochs}\\tLoss:{loss_sum/(i+1):.4f}\\t({100*(i+1)/len(training_generator):.0f}%)\", end='\\r')\n",
    "    losses.append(loss_sum/len(training_generator))\n",
    "    net.eval()\n",
    "    valid_loss = 0\n",
    "    with torch.no_grad():\n",
    "        for i, (img, label) in enumerate(test_generator):\n",
    "            img = img\n",
    "            label = label\n",
    "            outputs = net(img)\n",
    "            loss = criterion(outputs, label)\n",
    "            valid_loss += loss.item()\n",
    "          \n",
    "        validation_losses.append(valid_loss/len(test_generator)) \n",
    "    print(f\"Epoch {epoch+1}/{epochs}\\tLoss:{loss_sum/len(training_generator):.4f}\\tValidation Loss:{valid_loss/len(test_generator):.4f}\")"
   ]
  },
  {
   "cell_type": "markdown",
   "metadata": {
    "id": "FLgCh50s7m7i"
   },
   "source": [
    "## Evaluate the Model\n",
    "### Exercise 5\n",
    "Calculate the accuracy of the model on the test data."
   ]
  },
  {
   "cell_type": "code",
   "execution_count": null,
   "metadata": {
    "id": "dxq1U2wL7m7i"
   },
   "outputs": [],
   "source": [
    "correct =0\n",
    "total=0\n",
    "\n",
    "\n",
    "\n",
    "with torch.no_grad():\n",
    "    for i, (img, label) in enumerate(test_generator):\n",
    "        img = img\n",
    "        label = label\n",
    "        outputs = net(img)\n",
    "        \n",
    "        for idx, j in enumerate(outputs):\n",
    "            if torch.argmax(j) == label[idx]:\n",
    "                correct +=1\n",
    "            total +=1\n",
    "    \n",
    "print(f'accuracy: {round(correct/total, 3)}')"
   ]
  },
  {
   "cell_type": "markdown",
   "metadata": {
    "id": "y0ehTcTD7m7i"
   },
   "source": [
    "### Exercise 6\n",
    "Show some sample images and their predictions from the test data."
   ]
  },
  {
   "cell_type": "code",
   "execution_count": null,
   "metadata": {},
   "outputs": [],
   "source": [
    "def TakesamplesfromNthBatch(loader,N):\n",
    "    \n",
    "    imgout=[]\n",
    "    labelsout=[]\n",
    "    \n",
    "    for i, (img, label) in enumerate(test_generator):\n",
    "        img = img\n",
    "        label = label\n",
    "        outputs = net(img)\n",
    "        imgout=img.detach().cpu().squeeze()\n",
    "        labelsout=label.detach().cpu()  \n",
    "           \n",
    "        if i==N:\n",
    "            outputs = net(img)\n",
    "            predictionout = np.argmax(outputs.detach().cpu(),axis=1) \n",
    "            break\n",
    "\n",
    "    return imgout, labelsout, predictionout"
   ]
  },
  {
   "cell_type": "code",
   "execution_count": null,
   "metadata": {
    "id": "D7Eyia6D7m7j",
    "outputId": "c2c02358-bf35-4278-df07-5095e36b2f31"
   },
   "outputs": [],
   "source": [
    "#Get some training or test data samples to visualize the predictions.\n",
    "\n",
    "trial_input,trial_labels,trial_prediction = TakesamplesfromNthBatch(test_generator,5)\n",
    "\n",
    "numberIntheBatch=0\n",
    "Nofexamples=5\n",
    "for i in range(Nofexamples):    \n",
    "    \n",
    "    plt.figure()\n",
    "    imgplot = plt.imshow(trial_input[numberIntheBatch])\n",
    "    if trial_prediction[numberIntheBatch]==0:\n",
    "        plt.title('cat')\n",
    "    else:\n",
    "        plt.title('dog')\n",
    "   \n",
    "    numberIntheBatch=numberIntheBatch+1 # should be less than batch_size used in loader."
   ]
  },
  {
   "cell_type": "markdown",
   "metadata": {
    "id": "7lcrZm9o7m7j"
   },
   "source": [
    "## Your Turn\n",
    "Using the dataset below:\n",
    "1. Split the dataset into train and test sets.\n",
    "2. Design a classifier.\n",
    "3. Evaluate the classifier on the test set.\n",
    "<br>\n",
    "\n",
    "https://www.kaggle.com/piyushkumar18/animal-image-classification-dataset"
   ]
  },
  {
   "cell_type": "code",
   "execution_count": 1,
   "metadata": {},
   "outputs": [
    {
     "name": "stdout",
     "output_type": "stream",
     "text": [
      "Using cuda device\n"
     ]
    }
   ],
   "source": [
    "import warnings\n",
    "warnings.filterwarnings('ignore')\n",
    "\n",
    "import os\n",
    "\n",
    "import torch\n",
    "from torch import nn\n",
    "import torch.nn.functional as F\n",
    "import torch.optim as optim\n",
    "from torch.utils.data import Dataset, DataLoader\n",
    "\n",
    "import torchvision\n",
    "from torchvision import transforms, utils\n",
    "\n",
    "import cv2\n",
    "\n",
    "import numpy as np\n",
    "\n",
    "from matplotlib import pyplot as plt\n",
    "\n",
    "device = \"cuda\" if torch.cuda.is_available() else \"cpu\"\n",
    "print(\"Using {} device\".format(device))"
   ]
  },
  {
   "cell_type": "code",
   "execution_count": null,
   "metadata": {},
   "outputs": [],
   "source": [
    "import os\n",
    "\n",
    "import numpy as np\n",
    "\n",
    "import shutil\n",
    "rootdir='C:/Users/beyza/Downloads/archive (2)/Animal Image Dataset'\n",
    "\n",
    "classes=['butterfly','cats','cow','dogs','elephant','hen','horse','monkey','panda','sheep','spider','squirrel']\n",
    "for i in classes:\n",
    "\n",
    "    os.makedirs(rootdir +'/train/' + i)\n",
    "\n",
    "    os.makedirs(rootdir +'/test/' + i)\n",
    "\n",
    "    source = rootdir + '/' + i\n",
    "\n",
    "    allFileNames = os.listdir(source)\n",
    "\n",
    "    np.random.shuffle(allFileNames)\n",
    "\n",
    "    test_ratio = 0.25\n",
    "\n",
    "    train_FileNames, test_FileNames = np.split(np.array(allFileNames),\n",
    "                                                          [int(len(allFileNames)* (1 - test_ratio))])\n",
    "\n",
    "    train_FileNames = [source+'/'+ name for name in train_FileNames.tolist()]\n",
    "    test_FileNames = [source+'/' + name for name in test_FileNames.tolist()]\n",
    "\n",
    "    for name in train_FileNames:\n",
    "      shutil.copy(name, rootdir +'/train/' + i)\n",
    "\n",
    "    for name in test_FileNames:\n",
    "      shutil.copy(name, rootdir +'/test/' + i)"
   ]
  },
  {
   "cell_type": "code",
   "execution_count": 2,
   "metadata": {},
   "outputs": [
    {
     "data": {
      "image/png": "[encoded data removed]",
      "text/plain": [
       "<Figure size 432x288 with 1 Axes>"
      ]
     },
     "metadata": {
      "needs_background": "light"
     },
     "output_type": "display_data"
    },
    {
     "name": "stdout",
     "output_type": "stream",
     "text": [
      "(640, 426, 3)\n"
     ]
    }
   ],
   "source": [
    "\n",
    "image = cv2.imread(r'C:/Users/beyza/Downloads/archive (2)/Animal Image Dataset/train/butterfly/e030b2092be90021d85a5854ee454296eb70e3c818b413449df6c87ca3ed_640.jpg')\n",
    "image = cv2.cvtColor(image, cv2.COLOR_BGR2RGB)\n",
    "\n",
    "\n",
    "plt.imshow(image)\n",
    "plt.show()\n",
    "\n",
    "print(image.shape)"
   ]
  },
  {
   "cell_type": "code",
   "execution_count": 3,
   "metadata": {},
   "outputs": [
    {
     "data": {
      "image/png": "[encoded data removed]",
      "text/plain": [
       "<Figure size 432x288 with 1 Axes>"
      ]
     },
     "metadata": {
      "needs_background": "light"
     },
     "output_type": "display_data"
    },
    {
     "name": "stdout",
     "output_type": "stream",
     "text": [
      "(638, 424, 1)\n"
     ]
    }
   ],
   "source": [
    "nb_channels = image.shape[2]\n",
    "output_channels = 1\n",
    "\n",
    "\n",
    "image_tensor = torch.from_numpy(image.astype(np.float32)).permute(2,0,1)\n",
    "\n",
    "\n",
    "weights = torch.tensor([[-1., 0., 1.],\n",
    "                        [-1., 0., 1.],\n",
    "                        [-1., 0., 1.]])\n",
    "weights = weights.view(1,1, 3, 3).repeat(output_channels,nb_channels, 1, 1)\n",
    "\n",
    "\n",
    "output = F.conv2d(image_tensor.unsqueeze_(0), weights)\n",
    "output_image = output[0].permute(1, 2, 0).numpy()\n",
    "\n",
    "plt.imshow(output_image, cmap='binary')\n",
    "plt.show()\n",
    "\n",
    "print(output_image.shape)"
   ]
  },
  {
   "cell_type": "code",
   "execution_count": 4,
   "metadata": {},
   "outputs": [],
   "source": [
    "class AnimalDataset(Dataset):\n",
    "    def __init__(self, input_size = (128,128), training=True):\n",
    "        self.input_size = input_size\n",
    "        \n",
    "        self.transform = transforms.Compose([transforms.ToTensor()])\n",
    "        \n",
    "        \n",
    "        if training:\n",
    "            path = r'C:/Users/beyza/Downloads/archive (2)/Animal Image Dataset/train'\n",
    "        else:\n",
    "            path = r'C:/Users/beyza/Downloads/archive (2)/Animal Image Dataset/test'\n",
    "            \n",
    "        \n",
    "        self.classes = os.listdir(path)\n",
    "        files = []\n",
    "        labels = np.zeros((0,1))\n",
    "        for cls in self.classes:\n",
    "            new_files = [path + '\\\\' + cls + '\\\\' + x for x in os.listdir(path + '\\\\' + cls)]\n",
    "            files.extend(new_files)\n",
    "            new_labels = np.full((len(new_files),1),self.classes.index(cls))\n",
    "            labels = np.vstack((labels,new_labels))\n",
    "        self.data = np.hstack((np.array(files).reshape(-1,1),labels))\n",
    "        \n",
    "        np.random.shuffle(self.data)\n",
    "\n",
    "    def __len__(self):\n",
    "        return self.data.shape[0]\n",
    "    \n",
    "    \n",
    "    def __getitem__(self, idx):\n",
    "        \n",
    "        image = cv2.imread(self.data[idx,0],0)\n",
    "        \n",
    "        image = cv2.resize(image,(128,128))\n",
    "        \n",
    "        label = self.data[idx,1]\n",
    "        \n",
    "        label = np.array(label.astype(np.float32), dtype=np.long)\n",
    "        return self.transform(image).to(device), torch.from_numpy(label).to(device).long()\n",
    "\n",
    "training_data = AnimalDataset()\n",
    "test_data = AnimalDataset(training=False)\n",
    "\n",
    "training_generator = DataLoader(training_data, batch_size=16)\n",
    "test_generator = DataLoader(test_data, batch_size=16)"
   ]
  },
  {
   "cell_type": "code",
   "execution_count": 5,
   "metadata": {},
   "outputs": [],
   "source": [
    "class Net2(nn.Module):\n",
    "    def __init__(self):\n",
    "        super().__init__()\n",
    "        self.conv1 = nn.Conv2d(1, 5, (5,5)) \n",
    "        self.pool = nn.MaxPool2d((2, 2)) \n",
    "        self.conv2 = nn.Conv2d(5, 20, (5,5))\n",
    "        self.fc1 = nn.Linear(20 * 29 * 29, 32) \n",
    "        self.fc2 = nn.Linear(32, 12)\n",
    "        self.dropout = nn.Dropout(0.2)\n",
    "\n",
    "    def forward(self, x):\n",
    "        x = self.pool(F.relu(self.conv1(x)))\n",
    "        x = self.pool(F.relu(self.conv2(x)))\n",
    "        x = torch.flatten(x, 1) \n",
    "        x = self.dropout(x)\n",
    "        x = F.relu(self.fc1(x))\n",
    "        x = self.dropout(x)\n",
    "        x = self.fc2(x)\n",
    "        return x"
   ]
  },
  {
   "cell_type": "code",
   "execution_count": 17,
   "metadata": {},
   "outputs": [
    {
     "name": "stdout",
     "output_type": "stream",
     "text": [
      "Epoch 1/6\tLoss:2.2985\tValidation Loss:2.1212\n",
      "Epoch 2/6\tLoss:2.0760\tValidation Loss:2.0018\n",
      "Epoch 3/6\tLoss:1.9150\tValidation Loss:1.8327\n",
      "Epoch 4/6\tLoss:1.7698\tValidation Loss:1.7710\n",
      "Epoch 5/6\tLoss:1.6395\tValidation Loss:1.7841\n",
      "Epoch 6/6\tLoss:1.5369\tValidation Loss:1.8026\n"
     ]
    }
   ],
   "source": [
    "net2 = Net2().to(device)\n",
    "\n",
    "criterion = nn.CrossEntropyLoss()\n",
    "optimizer = optim.Adam(net2.parameters())\n",
    "epochs = 6\n",
    "losses=[]\n",
    "validation_losses=[]\n",
    "for epoch in range(epochs):\n",
    "    net2.train()\n",
    "    loss_sum = 0\n",
    "    for i, (img, label) in enumerate(training_generator):\n",
    "        img = img\n",
    "        label = label\n",
    "        optimizer.zero_grad()\n",
    "        outputs = net2(img)\n",
    "        loss = criterion(outputs, label)\n",
    "        loss.backward()\n",
    "        optimizer.step()\n",
    "        loss_sum += loss.item()\n",
    "        print(f\"Epoch {epoch+1}/{epochs}\\tLoss:{loss_sum/(i+1):.4f}\\t({100*(i+1)/len(training_generator):.0f}%)\", end='\\r')\n",
    "    losses.append(loss_sum/len(training_generator))\n",
    "    net2.eval()\n",
    "    valid_loss = 0\n",
    "    with torch.no_grad():\n",
    "        for i, (img, label) in enumerate(test_generator):\n",
    "            img = img\n",
    "            label = label\n",
    "            outputs = net2(img)\n",
    "            loss = criterion(outputs, label)\n",
    "            valid_loss += loss.item()\n",
    "          \n",
    "        validation_losses.append(valid_loss/len(test_generator)) \n",
    "    print(f\"Epoch {epoch+1}/{epochs}\\tLoss:{loss_sum/len(training_generator):.4f}\\tValidation Loss:{valid_loss/len(test_generator):.4f}\")"
   ]
  },
  {
   "cell_type": "code",
   "execution_count": 18,
   "metadata": {},
   "outputs": [
    {
     "data": {
      "text/plain": [
       "[<matplotlib.lines.Line2D at 0x2210b73d850>]"
      ]
     },
     "execution_count": 18,
     "metadata": {},
     "output_type": "execute_result"
    },
    {
     "data": {
      "image/png": "[encoded data removed]",
      "text/plain": [
       "<Figure size 432x288 with 1 Axes>"
      ]
     },
     "metadata": {
      "needs_background": "light"
     },
     "output_type": "display_data"
    }
   ],
   "source": [
    "plt.plot(losses)\n",
    "plt.plot(validation_losses)"
   ]
  },
  {
   "cell_type": "code",
   "execution_count": 19,
   "metadata": {},
   "outputs": [
    {
     "name": "stdout",
     "output_type": "stream",
     "text": [
      "accuracy: 0.399\n"
     ]
    }
   ],
   "source": [
    "\n",
    "\n",
    "correct =0\n",
    "total=0\n",
    "\n",
    "\n",
    "\n",
    "with torch.no_grad():\n",
    "    for i, (img, label) in enumerate(test_generator):\n",
    "        img = img\n",
    "        label = label\n",
    "        outputs = net2(img)\n",
    "        \n",
    "        for idx, j in enumerate(outputs):\n",
    "            if torch.argmax(j) == label[idx]:\n",
    "                correct +=1\n",
    "            total +=1\n",
    "    \n",
    "print(f'accuracy: {round(correct/total, 3)}')"
   ]
  },
  {
   "cell_type": "code",
   "execution_count": null,
   "metadata": {},
   "outputs": [],
   "source": []
  },
  {
   "cell_type": "code",
   "execution_count": null,
   "metadata": {},
   "outputs": [],
   "source": []
  }
 ],
 "metadata": {
  "colab": {
   "collapsed_sections": [],
   "name": "ConvolutionalNeuralNetworks.ipynb",
   "provenance": []
  },
  "kernelspec": {
   "display_name": "Python 3",
   "language": "python",
   "name": "python3"
  },
  "language_info": {
   "codemirror_mode": {
    "name": "ipython",
    "version": 3
   },
   "file_extension": ".py",
   "mimetype": "text/x-python",
   "name": "python",
   "nbconvert_exporter": "python",
   "pygments_lexer": "ipython3",
   "version": "3.8.5"
  }
 },
 "nbformat": 4,
 "nbformat_minor": 1
}
